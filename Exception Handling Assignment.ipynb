{
 "cells": [
  {
   "cell_type": "markdown",
   "metadata": {},
   "source": [
    "### Write a function to compute 5/0 and use try/except to catch the exceptions."
   ]
  },
  {
   "cell_type": "code",
   "execution_count": 7,
   "metadata": {},
   "outputs": [],
   "source": [
    "def divison_by_zero():\n",
    "    try:\n",
    "        x=5/0\n",
    "        return x\n",
    "    except ZeroDivisionError:\n",
    "        print(\"Divison by Zero Not Allowed\")"
   ]
  },
  {
   "cell_type": "code",
   "execution_count": 8,
   "metadata": {},
   "outputs": [
    {
     "name": "stdout",
     "output_type": "stream",
     "text": [
      "Divison by Zero Not Allowed\n"
     ]
    }
   ],
   "source": [
    "divison_by_zero()"
   ]
  },
  {
   "cell_type": "markdown",
   "metadata": {},
   "source": [
    "### Implement a Python program to generate all sentences where subject is in  [\"Americans\", \"Indians\"] and verb is in [\"Play\", \"watch\"] and the object is in  [\"Baseball\",\"cricket\"]. \n",
    "### Hint: Subject,Verb and Object should be declared in the program as shown below. \n",
    "### subjects=[\"Americans \",\"Indians\"] \n",
    "### verbs=[\"play\",\"watch\"] \n",
    "### objects=[\"Baseball\",\"Cricket\"] \n",
    "### Output should come as below: \n",
    "### Americans play Baseball. \n",
    "### Americans play Cricket. \n",
    "### Americans watch Baseball. \n",
    "### Americans watch Cricket. \n",
    "### Indians play Baseball. \n",
    "### Indians play Cricket. \n",
    "### Indians watch Baseball. \n",
    "### Indians watch Cricket.\n"
   ]
  },
  {
   "cell_type": "code",
   "execution_count": 29,
   "metadata": {},
   "outputs": [],
   "source": [
    "def sentence_create():\n",
    "    subjects=[\"Americans\",\"Indians\"]\n",
    "    verbs=[\"play\",\"watch\"] \n",
    "    objects=[\"Baseball\",\"Cricket\"]\n",
    "    i=0\n",
    "    j=0\n",
    "    k=0\n",
    "    for a in subjects:\n",
    "        for b in verbs:\n",
    "            for c in objects:\n",
    "                print('{} {} {}'.format(subjects[i],verbs[j],objects[k]))\n",
    "                k=k+1\n",
    "            j=j+1\n",
    "            k=0\n",
    "        i=i+1\n",
    "        j=0"
   ]
  },
  {
   "cell_type": "code",
   "execution_count": 30,
   "metadata": {},
   "outputs": [
    {
     "name": "stdout",
     "output_type": "stream",
     "text": [
      "Americans play Baseball\n",
      "Americans play Cricket\n",
      "Americans watch Baseball\n",
      "Americans watch Cricket\n",
      "Indians play Baseball\n",
      "Indians play Cricket\n",
      "Indians watch Baseball\n",
      "Indians watch Cricket\n"
     ]
    }
   ],
   "source": [
    "sentence_create()"
   ]
  },
  {
   "cell_type": "code",
   "execution_count": null,
   "metadata": {},
   "outputs": [],
   "source": []
  }
 ],
 "metadata": {
  "kernelspec": {
   "display_name": "Python 3",
   "language": "python",
   "name": "python3"
  },
  "language_info": {
   "codemirror_mode": {
    "name": "ipython",
    "version": 3
   },
   "file_extension": ".py",
   "mimetype": "text/x-python",
   "name": "python",
   "nbconvert_exporter": "python",
   "pygments_lexer": "ipython3",
   "version": "3.8.5"
  }
 },
 "nbformat": 4,
 "nbformat_minor": 4
}
